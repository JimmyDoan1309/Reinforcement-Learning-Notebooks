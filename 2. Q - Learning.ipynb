{
 "cells": [
  {
   "cell_type": "code",
   "execution_count": 1,
   "id": "2390ad0e",
   "metadata": {},
   "outputs": [],
   "source": [
    "import numpy as np"
   ]
  },
  {
   "cell_type": "code",
   "execution_count": 20,
   "id": "eff4b003",
   "metadata": {},
   "outputs": [
    {
     "data": {
      "text/plain": [
       "[['X', 'X', 'X', 'X', 'X', 'X', 'X', 'X', 'X', 'X', 'X'],\n",
       " ['X', ' ', ' ', ' ', ' ', ' ', ' ', 'X', ' ', 'T', 'X'],\n",
       " ['X', ' ', 'X', ' ', ' ', ' ', 'T', ' ', ' ', '3', 'X'],\n",
       " ['X', ' ', 'X', ' ', 'X', ' ', ' ', ' ', ' ', '2', 'X'],\n",
       " ['X', 'S', ' ', ' ', 'X', ' ', ' ', 'T', ' ', '1', 'X'],\n",
       " ['X', ' ', ' ', ' ', 'X', ' ', ' ', 'T', ' ', ' ', 'X'],\n",
       " ['X', 'X', 'X', 'X', 'X', 'X', 'X', 'X', 'X', 'X', 'X']]"
      ]
     },
     "execution_count": 20,
     "metadata": {},
     "output_type": "execute_result"
    }
   ],
   "source": [
    "maze_str = '''\n",
    "XXXXXXXXXXX\n",
    "X      X TX\n",
    "X X   T  3X\n",
    "X X X    2X\n",
    "XS  X  T 1X\n",
    "X   X  T  X\n",
    "XXXXXXXXXXX\n",
    "'''\n",
    "maze = [[c for c in line] for line in maze_str.strip().split('\\n')]\n",
    "maze"
   ]
  },
  {
   "cell_type": "code",
   "execution_count": 21,
   "id": "100906e5",
   "metadata": {},
   "outputs": [],
   "source": [
    "def find_start_end_position():\n",
    "    start = None\n",
    "    ends = []\n",
    "    for i in range(len(maze)):\n",
    "        for j in range(len(maze[i])):\n",
    "            if maze[i][j] == 'S':\n",
    "                start = (i,j)\n",
    "            if maze[i][j] in ['1','2','3']:\n",
    "                ends.append((i,j))\n",
    "    return start, ends\n",
    "\n",
    "START, ENDS = find_start_end_position()"
   ]
  },
  {
   "cell_type": "code",
   "execution_count": 22,
   "id": "e1547555",
   "metadata": {},
   "outputs": [],
   "source": [
    "ROW = len(maze)\n",
    "COL = len(maze[0])"
   ]
  },
  {
   "cell_type": "code",
   "execution_count": 23,
   "id": "91000d20",
   "metadata": {},
   "outputs": [],
   "source": [
    "# Cache to quicly return possible actions for a given state\n",
    "state_actions = {}"
   ]
  },
  {
   "cell_type": "code",
   "execution_count": 83,
   "id": "ddb18987",
   "metadata": {},
   "outputs": [],
   "source": [
    "def get_actions(state):\n",
    "    '''\n",
    "    Find the possible action for a given state\n",
    "    '''\n",
    "    \n",
    "    # No action if reach the end\n",
    "    if maze[state[0]][state[1]] in ['1', '2', '3']:\n",
    "        return []\n",
    "    \n",
    "    if state_actions.get(state):\n",
    "        return state_actions[state]\n",
    "    i,j = state\n",
    "    possible_actions = []\n",
    "    if i > 1 and maze[i-1][j] != 'X':\n",
    "        possible_actions.append('UP')\n",
    "    if i < ROW - 2 and maze[i+1][j] != 'X':\n",
    "        possible_actions.append('DOWN')\n",
    "    if j > 1 and maze[i][j-1] != 'X':\n",
    "        possible_actions.append('LEFT')\n",
    "    if j < COL - 2 and maze[i][j+1] != 'X':\n",
    "        possible_actions.append('RIGHT')\n",
    "    state_actions[state] = possible_actions\n",
    "    return possible_actions\n",
    "\n",
    "def pick_action(state, actions, Q_table, epsilon, decay):\n",
    "    if np.random.random() > epsilon**decay:\n",
    "        return np.random.choice(actions)\n",
    "    \n",
    "    best_action = None\n",
    "    best_Q_value = np.NINF\n",
    "    for action in actions:\n",
    "        Q_value = Q_table.get(state,{}).get(action,0)\n",
    "        if Q_value > best_Q_value:\n",
    "            best_action = action\n",
    "            best_Q_value = Q_value\n",
    "    return best_action\n",
    "\n",
    "def take_action(state, action):\n",
    "    i, j = state\n",
    "    if action == 'UP':\n",
    "        return i-1, j\n",
    "    if action == 'DOWN':\n",
    "        return i+1, j\n",
    "    if action == 'LEFT':\n",
    "        return i, j-1\n",
    "    if action == 'RIGHT':\n",
    "        return i, j+1\n",
    "\n",
    "def reward(state):\n",
    "    i,j = state\n",
    "    rewards = {\n",
    "        '3': 10,\n",
    "        '2': 3,\n",
    "        '1': 1,\n",
    "        'T': -10\n",
    "    }\n",
    "    return rewards.get(maze[i][j],-1)\n",
    "\n",
    "\n",
    "def done_game(state, cache):\n",
    "    i,j = state\n",
    "    if maze[i][j] in ['T', '1', '2', '3']:\n",
    "        cache[maze[i][j]] += 1\n",
    "        return True\n",
    "    return False\n"
   ]
  },
  {
   "cell_type": "markdown",
   "id": "b1d52e82",
   "metadata": {},
   "source": [
    "## Q value update equation\n",
    "$Q(s,a) = Q(s,a) + \\alpha \\cdot( R(s') + \\gamma \\cdot Max(Q(s',a')) - Q(s,a))$\n",
    "\n",
    "where \n",
    "\n",
    "$Q(s,a)$: Q value at state s and take action `a`\n",
    "\n",
    "$R(s')$: The reward after take action `a` from state `s` and move to state `s'`\n",
    "\n",
    "$Max(Q(s',a'))$: The maximum reward at state `s'` and take action `a'` for all `a'`<br>\n",
    "\n",
    "$\\alpha$: Learning rate\n",
    "\n",
    "$\\gamma$: Discount factor\n"
   ]
  },
  {
   "cell_type": "code",
   "execution_count": 84,
   "id": "568dd3c9",
   "metadata": {},
   "outputs": [],
   "source": [
    "def find_and_insert_Q_value(state, action, Q_table):\n",
    "    if Q_table.get(state) is None:\n",
    "        Q_table[state] = {}\n",
    "    if Q_table[state].get(action) is None:\n",
    "        Q_table[state][action] = 0\n",
    "    return Q_table[state][action]\n",
    "\n",
    "def get_max_Q_value(state,actions,Q_table):\n",
    "    if not actions:\n",
    "        return 0\n",
    "    \n",
    "    max_Q = np.NINF\n",
    "    for action in actions:\n",
    "        val = find_and_insert_Q_value(state, action, Q_table)\n",
    "        if val > max_Q:\n",
    "            max_Q = val\n",
    "    return max_Q\n",
    "\n",
    "def update_Q_table(state, action, Q_table, gamma, lr):    \n",
    "    value = find_and_insert_Q_value(state, action, Q_table)\n",
    "    \n",
    "    next_state = take_action(state, action)\n",
    "    next_state_actions = get_actions(next_state)\n",
    "    # Q learning update function\n",
    "    value = value + lr * (reward(next_state) + gamma * get_max_Q_value(next_state, next_state_actions, Q_table) - value)\n",
    "    Q_table[state][action] = value\n",
    "    \n",
    "    return next_state"
   ]
  },
  {
   "cell_type": "code",
   "execution_count": 85,
   "id": "68b99a90",
   "metadata": {},
   "outputs": [],
   "source": [
    "DISCOUNT = 0.9\n",
    "LEARNING_RATE = 0.1\n",
    "EPSILON = 0.95\n",
    "DECAY = 30"
   ]
  },
  {
   "cell_type": "code",
   "execution_count": 86,
   "id": "adc8a2b5",
   "metadata": {},
   "outputs": [],
   "source": [
    "Q_table = {}"
   ]
  },
  {
   "cell_type": "code",
   "execution_count": 87,
   "id": "a44a2857",
   "metadata": {},
   "outputs": [],
   "source": [
    "game_end_state = {\n",
    "    '3': 0,\n",
    "    '2': 0,\n",
    "    '1': 0,\n",
    "    'T': 0,\n",
    "    'STOP': 0, \n",
    "}"
   ]
  },
  {
   "cell_type": "code",
   "execution_count": 88,
   "id": "9b4e612b",
   "metadata": {},
   "outputs": [],
   "source": [
    "game = 0\n",
    "MAX_STEP = 100\n",
    "while game < 1000:\n",
    "    current_pos = START\n",
    "    step = 0\n",
    "    while not done_game(current_pos, game_end_state) and step < MAX_STEP:\n",
    "        actions = get_actions(current_pos)\n",
    "        action = pick_action(current_pos, actions, Q_table, EPSILON, DECAY)\n",
    "        current_pos = update_Q_table(current_pos, action, Q_table, DISCOUNT, LEARNING_RATE)\n",
    "        step+=1\n",
    "    \n",
    "    if step >= MAX_STEP:\n",
    "        game_end_state['STOP']+=1\n",
    "    \n",
    "    if game % 5 == 0:\n",
    "        DECAY -= 1\n",
    "        DECAY = max(1, DECAY)\n",
    "    \n",
    "    game += 1"
   ]
  },
  {
   "cell_type": "code",
   "execution_count": 89,
   "id": "5952ae9f",
   "metadata": {},
   "outputs": [
    {
     "data": {
      "text/plain": [
       "{'3': 245, '2': 585, '1': 23, 'T': 143, 'STOP': 4}"
      ]
     },
     "execution_count": 89,
     "metadata": {},
     "output_type": "execute_result"
    }
   ],
   "source": [
    "game_end_state"
   ]
  },
  {
   "cell_type": "code",
   "execution_count": 90,
   "id": "2e5c1097",
   "metadata": {},
   "outputs": [
    {
     "data": {
      "text/plain": [
       "[['X', 'X', 'X', 'X', 'X', 'X', 'X', 'X', 'X', 'X', 'X'],\n",
       " ['X', ' ', ' ', ' ', ' ', ' ', ' ', 'X', ' ', 'T', 'X'],\n",
       " ['X', ' ', 'X', ' ', ' ', ' ', 'T', ' ', ' ', '3', 'X'],\n",
       " ['X', ' ', 'X', ' ', 'X', ' ', ' ', ' ', ' ', '2', 'X'],\n",
       " ['X', 'S', ' ', ' ', 'X', ' ', ' ', 'T', ' ', '1', 'X'],\n",
       " ['X', ' ', ' ', ' ', 'X', ' ', ' ', 'T', ' ', ' ', 'X'],\n",
       " ['X', 'X', 'X', 'X', 'X', 'X', 'X', 'X', 'X', 'X', 'X']]"
      ]
     },
     "execution_count": 90,
     "metadata": {},
     "output_type": "execute_result"
    }
   ],
   "source": [
    "maze = [[c for c in line] for line in maze_str.strip().split('\\n')]\n",
    "maze"
   ]
  },
  {
   "cell_type": "code",
   "execution_count": 91,
   "id": "e98961ea",
   "metadata": {},
   "outputs": [
    {
     "name": "stdout",
     "output_type": "stream",
     "text": [
      "(4, 1) RIGHT\n",
      "(4, 2) RIGHT\n",
      "(4, 3) UP\n",
      "(3, 3) UP\n",
      "(2, 3) RIGHT\n",
      "(2, 4) RIGHT\n",
      "(2, 5) DOWN\n",
      "(3, 5) RIGHT\n",
      "(3, 6) RIGHT\n",
      "(3, 7) RIGHT\n",
      "(3, 8) UP\n",
      "(2, 8) RIGHT\n",
      "Stop at 3\n"
     ]
    }
   ],
   "source": [
    "current_pos = START\n",
    "while not done_game(current_pos,game_end_state):\n",
    "    if not current_pos == START:\n",
    "        maze[current_pos[0]][current_pos[1]] = '*'\n",
    "    actions = get_actions(current_pos)\n",
    "    action = pick_action(current_pos, actions, Q_table, 0, 0)\n",
    "    print(current_pos, action)\n",
    "    current_pos = take_action(current_pos, action)\n",
    "print(f'Stop at {maze[current_pos[0]][current_pos[1]]}')"
   ]
  },
  {
   "cell_type": "code",
   "execution_count": 92,
   "id": "d40e91be",
   "metadata": {},
   "outputs": [
    {
     "data": {
      "text/plain": [
       "[['X', 'X', 'X', 'X', 'X', 'X', 'X', 'X', 'X', 'X', 'X'],\n",
       " ['X', ' ', ' ', ' ', ' ', ' ', ' ', 'X', ' ', 'T', 'X'],\n",
       " ['X', ' ', 'X', '*', '*', '*', 'T', ' ', '*', '3', 'X'],\n",
       " ['X', ' ', 'X', '*', 'X', '*', '*', '*', '*', '2', 'X'],\n",
       " ['X', 'S', '*', '*', 'X', ' ', ' ', 'T', ' ', '1', 'X'],\n",
       " ['X', ' ', ' ', ' ', 'X', ' ', ' ', 'T', ' ', ' ', 'X'],\n",
       " ['X', 'X', 'X', 'X', 'X', 'X', 'X', 'X', 'X', 'X', 'X']]"
      ]
     },
     "execution_count": 92,
     "metadata": {},
     "output_type": "execute_result"
    }
   ],
   "source": [
    "maze"
   ]
  },
  {
   "cell_type": "code",
   "execution_count": null,
   "id": "501e2e6f",
   "metadata": {},
   "outputs": [],
   "source": []
  }
 ],
 "metadata": {
  "kernelspec": {
   "display_name": "Python 3 (ipykernel)",
   "language": "python",
   "name": "python3"
  },
  "language_info": {
   "codemirror_mode": {
    "name": "ipython",
    "version": 3
   },
   "file_extension": ".py",
   "mimetype": "text/x-python",
   "name": "python",
   "nbconvert_exporter": "python",
   "pygments_lexer": "ipython3",
   "version": "3.8.10"
  }
 },
 "nbformat": 4,
 "nbformat_minor": 5
}
