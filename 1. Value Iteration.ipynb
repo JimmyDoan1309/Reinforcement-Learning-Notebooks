{
 "cells": [
  {
   "cell_type": "code",
   "execution_count": 2,
   "id": "5cc82ed8",
   "metadata": {},
   "outputs": [],
   "source": [
    "import numpy as np"
   ]
  },
  {
   "cell_type": "code",
   "execution_count": 3,
   "id": "3a1714bc",
   "metadata": {},
   "outputs": [
    {
     "data": {
      "text/plain": [
       "[['X', 'X', 'X', 'X', 'X', 'X', 'X'],\n",
       " ['X', ' ', ' ', ' ', ' ', ' ', 'X'],\n",
       " ['X', ' ', 'X', ' ', ' ', ' ', 'X'],\n",
       " ['X', ' ', 'X', '1', 'X', '3', 'X'],\n",
       " ['X', 'S', ' ', ' ', ' ', ' ', 'X'],\n",
       " ['X', 'T', 'T', 'T', 'T', 'T', 'X'],\n",
       " ['X', 'X', 'X', 'X', 'X', 'X', 'X']]"
      ]
     },
     "execution_count": 3,
     "metadata": {},
     "output_type": "execute_result"
    }
   ],
   "source": [
    "maze_str = '''\n",
    "XXXXXXX\n",
    "X     X\n",
    "X X   X\n",
    "X X1X3X\n",
    "XS    X\n",
    "XTTTTTX\n",
    "XXXXXXX\n",
    "'''\n",
    "maze = [[c for c in line] for line in maze_str.strip().split('\\n')]\n",
    "maze"
   ]
  },
  {
   "cell_type": "code",
   "execution_count": 4,
   "id": "c572f3e2",
   "metadata": {},
   "outputs": [],
   "source": [
    "def find_start_end_position():\n",
    "    start = None\n",
    "    ends = []\n",
    "    for i in range(len(maze)):\n",
    "        for j in range(len(maze[i])):\n",
    "            if maze[i][j] == 'S':\n",
    "                start = (i,j)\n",
    "            if maze[i][j] in ['1','2','3']:\n",
    "                ends.append((i,j))\n",
    "    return start, ends\n",
    "\n",
    "START, ENDS = find_start_end_position()"
   ]
  },
  {
   "cell_type": "code",
   "execution_count": 5,
   "id": "9adfcbc3",
   "metadata": {},
   "outputs": [],
   "source": [
    "ROW = len(maze)\n",
    "COL = len(maze[0])"
   ]
  },
  {
   "cell_type": "markdown",
   "id": "fd9feace",
   "metadata": {},
   "source": [
    "### Define some functions\n",
    "\n",
    "Many of these functions are not necessary but define to match the full Value Iteration algorithm"
   ]
  },
  {
   "cell_type": "code",
   "execution_count": 6,
   "id": "37ea4826",
   "metadata": {},
   "outputs": [],
   "source": [
    "# Cache actions for each state\n",
    "state_actions = {}"
   ]
  },
  {
   "cell_type": "code",
   "execution_count": 20,
   "id": "b3ef254e",
   "metadata": {},
   "outputs": [],
   "source": [
    "def all_states(maze):\n",
    "    states = []\n",
    "    for i in range(len(maze)):\n",
    "        for j in range(len(maze[i])):\n",
    "            if maze[i][j] != 'X':\n",
    "                states.append((i,j))\n",
    "    return states\n",
    "\n",
    "def get_actions(state):\n",
    "    '''\n",
    "    Find the possible action for a given state\n",
    "    '''\n",
    "    \n",
    "    # No action if reach the end\n",
    "    if maze[state[0]][state[1]] in ['1', '2', '3']:\n",
    "        return []\n",
    "    \n",
    "    if state_actions.get(state):\n",
    "        return state_actions[state]\n",
    "    i,j = state\n",
    "    possible_actions = []\n",
    "    if i > 1 and maze[i-1][j] != 'X':\n",
    "        possible_actions.append('UP')\n",
    "    if i < ROW - 2 and maze[i+1][j] != 'X':\n",
    "        possible_actions.append('DOWN')\n",
    "    if j > 1 and maze[i][j-1] != 'X':\n",
    "        possible_actions.append('LEFT')\n",
    "    if j < COL - 2 and maze[i][j+1] != 'X':\n",
    "        possible_actions.append('RIGHT')\n",
    "    state_actions[state] = possible_actions\n",
    "    return possible_actions\n",
    "\n",
    "def take_action(state, action):\n",
    "    '''\n",
    "    Given an action, return the next state\n",
    "    '''\n",
    "    i, j = state\n",
    "    if action == 'UP':\n",
    "        return i-1, j\n",
    "    if action == 'DOWN':\n",
    "        return i+1, j\n",
    "    if action == 'LEFT':\n",
    "        return i, j-1\n",
    "    if action == 'RIGHT':\n",
    "        return i, j+1\n",
    "    \n",
    "\n",
    "def best_action(state):\n",
    "    actions = get_actions(state)\n",
    "    states = [take_action(state, action) for action in actions]\n",
    "    \n",
    "    idx = 0\n",
    "    best_value = np.NINF\n",
    "    for i,state in enumerate(states):\n",
    "        if value_table[state] > best_value:\n",
    "            best_value = value_table[state]\n",
    "            idx = i\n",
    "    return states[idx], actions[idx]\n",
    "        \n",
    "\n",
    "def reward(state):\n",
    "    i,j = state\n",
    "    rewards = {\n",
    "        '3': 10,\n",
    "        '2': 5,\n",
    "        '1': 1,\n",
    "        'T': -10,\n",
    "        '0': -1\n",
    "    }\n",
    "    return rewards[maze[i][j]]\n",
    "\n",
    "def discounted_reward(state, action, actions, noise, discount):\n",
    "    '''\n",
    "    Calculate the discounted reward given a state and actions\n",
    "    \n",
    "    sum of [P(s'|s, a) * (R(s,a,s') + gamma*V(s'))] for all s'\n",
    "    '''\n",
    "    \n",
    "    next_state = take_action(state, action)\n",
    "    other_states = [take_action(state, a) for a in actions if a != action]\n",
    "    \n",
    "    dr = (1-noise) * (reward(next_state) + discount * value_table[next_state])\n",
    "    \n",
    "    if len(other_states) == 0:\n",
    "        return dr\n",
    "    \n",
    "    prob = noise / len(other_states)\n",
    "    for other_state in other_states:\n",
    "        dr += prob * (reward(other_state) + discount * value_table[other_state])\n",
    "        \n",
    "    return dr"
   ]
  },
  {
   "cell_type": "markdown",
   "id": "29b822df",
   "metadata": {},
   "source": [
    "### Value Iteration Part"
   ]
  },
  {
   "cell_type": "code",
   "execution_count": 21,
   "id": "28231336",
   "metadata": {},
   "outputs": [],
   "source": [
    "# How random the transition function ~ how much risk the agent willing to take\n",
    "NOISE = 0.5\n",
    "\n",
    "# How far to the future the agent prioritize reward\n",
    "DISCOUNT = 0.9"
   ]
  },
  {
   "cell_type": "code",
   "execution_count": 22,
   "id": "84910280",
   "metadata": {},
   "outputs": [],
   "source": [
    "states = all_states(maze)"
   ]
  },
  {
   "cell_type": "code",
   "execution_count": 23,
   "id": "58c2e272",
   "metadata": {},
   "outputs": [],
   "source": [
    "value_table = {s: 0 for s in states}\n",
    "for end in ENDS:\n",
    "    value_table[end] = reward(end)"
   ]
  },
  {
   "cell_type": "code",
   "execution_count": 24,
   "id": "23448ce5",
   "metadata": {},
   "outputs": [],
   "source": [
    "states = all_states(maze)\n",
    "epochs = 50\n",
    "for i in range(epochs):\n",
    "    for state in states:\n",
    "        actions = get_actions(state)\n",
    "        \n",
    "        if len(actions) == 0:\n",
    "            value_table[state] = reward(state)\n",
    "            continue\n",
    "            \n",
    "        Q_sa = []\n",
    "        for action in actions:\n",
    "            Q_sa.append(discounted_reward(state, action, actions, NOISE, DISCOUNT))\n",
    "            \n",
    "        value_table[state] = np.max(Q_sa)"
   ]
  },
  {
   "cell_type": "code",
   "execution_count": 25,
   "id": "ad802369",
   "metadata": {},
   "outputs": [
    {
     "data": {
      "text/plain": [
       "{(1, 1): -8.314345661888677,\n",
       " (1, 2): -5.068527807652714,\n",
       " (1, 3): -0.7268273105269234,\n",
       " (1, 4): 2.240674943093799,\n",
       " (1, 5): 5.076230385232314,\n",
       " (2, 1): -11.18557405573019,\n",
       " (2, 3): 1.8012786644521075,\n",
       " (2, 4): 4.977366222537935,\n",
       " (2, 5): 11.262059236748307,\n",
       " (3, 1): -14.320263546085572,\n",
       " (3, 3): 1,\n",
       " (3, 5): 10,\n",
       " (4, 1): -18.415011740770005,\n",
       " (4, 2): -15.323702939900052,\n",
       " (4, 3): -6.90175954097179,\n",
       " (4, 4): -6.916272320204137,\n",
       " (4, 5): 2.729007343346593,\n",
       " (5, 1): -23.435822307887513,\n",
       " (5, 2): -21.442371222702363,\n",
       " (5, 3): -16.771755048870858,\n",
       " (5, 4): -14.850798814695281,\n",
       " (5, 5): -10.95480616210691}"
      ]
     },
     "execution_count": 25,
     "metadata": {},
     "output_type": "execute_result"
    }
   ],
   "source": [
    "value_table"
   ]
  },
  {
   "cell_type": "markdown",
   "id": "62c79987",
   "metadata": {},
   "source": [
    "### Test solve"
   ]
  },
  {
   "cell_type": "code",
   "execution_count": 26,
   "id": "e784a934",
   "metadata": {},
   "outputs": [
    {
     "data": {
      "text/plain": [
       "[['X', 'X', 'X', 'X', 'X', 'X', 'X'],\n",
       " ['X', ' ', ' ', ' ', ' ', ' ', 'X'],\n",
       " ['X', ' ', 'X', ' ', ' ', ' ', 'X'],\n",
       " ['X', ' ', 'X', '1', 'X', '3', 'X'],\n",
       " ['X', 'S', ' ', ' ', ' ', ' ', 'X'],\n",
       " ['X', 'T', 'T', 'T', 'T', 'T', 'X'],\n",
       " ['X', 'X', 'X', 'X', 'X', 'X', 'X']]"
      ]
     },
     "execution_count": 26,
     "metadata": {},
     "output_type": "execute_result"
    }
   ],
   "source": [
    "maze = [[c for c in line] for line in maze_str.strip().split('\\n')]\n",
    "maze"
   ]
  },
  {
   "cell_type": "code",
   "execution_count": 27,
   "id": "c48e5a56",
   "metadata": {},
   "outputs": [
    {
     "name": "stdout",
     "output_type": "stream",
     "text": [
      "Stop at 3\n"
     ]
    }
   ],
   "source": [
    "current_pos = START\n",
    "while current_pos not in ENDS:\n",
    "    maze[current_pos[0]][current_pos[1]] = '*'\n",
    "    current_pos, action = best_action(current_pos)\n",
    "print(f'Stop at {maze[current_pos[0]][current_pos[1]]}')"
   ]
  },
  {
   "cell_type": "code",
   "execution_count": 28,
   "id": "9027dd54",
   "metadata": {},
   "outputs": [
    {
     "data": {
      "text/plain": [
       "[['X', 'X', 'X', 'X', 'X', 'X', 'X'],\n",
       " ['X', '*', '*', '*', '*', '*', 'X'],\n",
       " ['X', '*', 'X', ' ', ' ', '*', 'X'],\n",
       " ['X', '*', 'X', '1', 'X', '3', 'X'],\n",
       " ['X', '*', ' ', ' ', ' ', ' ', 'X'],\n",
       " ['X', 'T', 'T', 'T', 'T', 'T', 'X'],\n",
       " ['X', 'X', 'X', 'X', 'X', 'X', 'X']]"
      ]
     },
     "execution_count": 28,
     "metadata": {},
     "output_type": "execute_result"
    }
   ],
   "source": [
    "maze"
   ]
  },
  {
   "cell_type": "code",
   "execution_count": null,
   "id": "58442a21",
   "metadata": {},
   "outputs": [],
   "source": [
    "value_table[(4,4)]"
   ]
  },
  {
   "cell_type": "code",
   "execution_count": null,
   "id": "8cc6e26b",
   "metadata": {},
   "outputs": [],
   "source": []
  }
 ],
 "metadata": {
  "kernelspec": {
   "display_name": "Python 3 (ipykernel)",
   "language": "python",
   "name": "python3"
  },
  "language_info": {
   "codemirror_mode": {
    "name": "ipython",
    "version": 3
   },
   "file_extension": ".py",
   "mimetype": "text/x-python",
   "name": "python",
   "nbconvert_exporter": "python",
   "pygments_lexer": "ipython3",
   "version": "3.8.10"
  }
 },
 "nbformat": 4,
 "nbformat_minor": 5
}
